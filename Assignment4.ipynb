{
 "cells": [
  {
   "cell_type": "code",
   "execution_count": 1,
   "metadata": {},
   "outputs": [
    {
     "name": "stdout",
     "output_type": "stream",
     "text": [
      "Longest words are :  ['computer science', 'data science']\n"
     ]
    }
   ],
   "source": [
    "def filter_long_words(l, n):\n",
    "    a = []\n",
    "    for i in l:\n",
    "        if len(i) > n:\n",
    "            a.append(i)\n",
    "    return a\n",
    "\n",
    "lst = [\"hello\", \"world\", \"name\", \"words\", \"computer science\", \"data science\"]\n",
    "print(\"Longest words are : \", filter_long_words(lst, 5))"
   ]
  },
  {
   "cell_type": "code",
   "execution_count": 2,
   "metadata": {},
   "outputs": [
    {
     "data": {
      "text/plain": [
       "[2, 3, 4]"
      ]
     },
     "execution_count": 2,
     "metadata": {},
     "output_type": "execute_result"
    }
   ],
   "source": [
    "def length_of_words(l):\n",
    "    a = []\n",
    "    for i in l:\n",
    "        a.append(len(i))\n",
    "    return a\n",
    "\n",
    "l = [\"ab\", \"cde\", \"erty\"]\n",
    "length_of_words(l)"
   ]
  },
  {
   "cell_type": "code",
   "execution_count": 3,
   "metadata": {},
   "outputs": [
    {
     "name": "stdout",
     "output_type": "stream",
     "text": [
      "Enter any character : f\n",
      "False\n"
     ]
    }
   ],
   "source": [
    "def checkVowel():\n",
    "    char = input(\"Enter any character : \")\n",
    "    if char.lower() in ('a', 'e', 'i', 'o', 'u'):\n",
    "        return True\n",
    "    else:\n",
    "        return False\n",
    "print(checkVowel())"
   ]
  },
  {
   "cell_type": "code",
   "execution_count": 4,
   "metadata": {},
   "outputs": [
    {
     "name": "stdout",
     "output_type": "stream",
     "text": [
      "Enter the value of the first side : 5\n",
      "Enter the value of the second side : 6\n",
      "Enter the value of the third side : 7\n",
      "Area of traingle is 14.697 cm²\n"
     ]
    }
   ],
   "source": [
    "class Triangle:\n",
    "    def __init__(self):\n",
    "        self.a = float(input(\"Enter the value of the first side : \"))\n",
    "        self.b = float(input(\"Enter the value of the second side : \"))\n",
    "        self.c = float(input(\"Enter the value of the third side : \"))\n",
    "\n",
    "class Area(Triangle):\n",
    "    def area(self):\n",
    "        s = (self.a + self.b + self.c) / 2\n",
    "        area = (s * (s - self.a)*(s - self.b)*(s - self.c)) ** 0.5\n",
    "        print(f\"Area of traingle is {area:.3f} cm\\u00b2\")\n",
    "\n",
    "a = Area()\n",
    "a.area()"
   ]
  },
  {
   "cell_type": "code",
   "execution_count": null,
   "metadata": {},
   "outputs": [],
   "source": []
  },
  {
   "cell_type": "code",
   "execution_count": null,
   "metadata": {},
   "outputs": [],
   "source": []
  },
  {
   "cell_type": "code",
   "execution_count": null,
   "metadata": {},
   "outputs": [],
   "source": []
  }
 ],
 "metadata": {
  "kernelspec": {
   "display_name": "Python 3",
   "language": "python",
   "name": "python3"
  },
  "language_info": {
   "codemirror_mode": {
    "name": "ipython",
    "version": 3
   },
   "file_extension": ".py",
   "mimetype": "text/x-python",
   "name": "python",
   "nbconvert_exporter": "python",
   "pygments_lexer": "ipython3",
   "version": "3.8.5"
  }
 },
 "nbformat": 4,
 "nbformat_minor": 4
}
