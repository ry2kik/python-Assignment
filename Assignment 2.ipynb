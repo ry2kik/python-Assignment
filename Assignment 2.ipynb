{
 "cells": [
  {
   "cell_type": "code",
   "execution_count": 17,
   "metadata": {},
   "outputs": [
    {
     "name": "stdout",
     "output_type": "stream",
     "text": [
      "Enter the number of rows : 5\n",
      "* \n",
      "* * \n",
      "* * * \n",
      "* * \n",
      "* \n"
     ]
    }
   ],
   "source": [
    "n = int(input(\"Enter the number of rows : \"))\n",
    "if n > 0:\n",
    "    for i in range(1, n + 1):\n",
    "        if(i > (n + 1) / 2):\n",
    "            for j in range(n + 1 - i):\n",
    "                print(\"* \", end = \"\")\n",
    "        else:\n",
    "            for j in range(i) : \n",
    "                print(\"* \", end = \"\")\n",
    "        print('\\r')\n",
    "else:\n",
    "    print(\"You have entered a wrong input\")"
   ]
  },
  {
   "cell_type": "code",
   "execution_count": 20,
   "metadata": {},
   "outputs": [
    {
     "name": "stdout",
     "output_type": "stream",
     "text": [
      "Enter any name : raktim\n",
      "mitkar\n"
     ]
    }
   ],
   "source": [
    "userInput = input(\"Enter any name : \")\n",
    "length_of_user_input = len(userInput)\n",
    "newName = \"\"\n",
    "if(length_of_user_input > 0):\n",
    "    while(length_of_user_input > 0):\n",
    "        newName += userInput[length_of_user_input - 1]\n",
    "        length_of_user_input -= 1\n",
    "    print(newName)\n",
    "else:\n",
    "    print(\"You have entered a wrong input\")"
   ]
  },
  {
   "cell_type": "code",
   "execution_count": null,
   "metadata": {},
   "outputs": [],
   "source": []
  }
 ],
 "metadata": {
  "kernelspec": {
   "display_name": "Python 3",
   "language": "python",
   "name": "python3"
  },
  "language_info": {
   "codemirror_mode": {
    "name": "ipython",
    "version": 3
   },
   "file_extension": ".py",
   "mimetype": "text/x-python",
   "name": "python",
   "nbconvert_exporter": "python",
   "pygments_lexer": "ipython3",
   "version": "3.8.5"
  }
 },
 "nbformat": 4,
 "nbformat_minor": 4
}
