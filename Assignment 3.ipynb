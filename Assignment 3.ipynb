{
 "cells": [
  {
   "cell_type": "code",
   "execution_count": 1,
   "metadata": {},
   "outputs": [
    {
     "data": {
      "text/plain": [
       "'204116172Sudh'"
      ]
     },
     "execution_count": 1,
     "metadata": {},
     "output_type": "execute_result"
    }
   ],
   "source": [
    "# def addi(a, b):\n",
    "#     if a > b:\n",
    "#         return a\n",
    "#     else:\n",
    "#         return b\n",
    "def concadination(a, b):\n",
    "    newString = \"\"\n",
    "    newString += str(a) + str(b)\n",
    "    return newString\n",
    "\n",
    "l = [20,41,161,7,2, \"Sudh\"] \n",
    "\n",
    "def myreduce(function, iterable_object):\n",
    "    \"\"\"This function will take function and iterable object as argument\"\"\"\n",
    "    length = len(iterable_object)\n",
    "    if(length > 1):\n",
    "        a = iterable_object[0]\n",
    "        b = iterable_object[1]\n",
    "        s = function(a, b)\n",
    "        for i in range(2, length):\n",
    "            a = s\n",
    "            b = iterable_object[i]\n",
    "            s = function(a, b)\n",
    "        return s\n",
    "    else:\n",
    "        return iterable_object[0]\n",
    "myreduce(concadination, l)"
   ]
  },
  {
   "cell_type": "code",
   "execution_count": 2,
   "metadata": {},
   "outputs": [
    {
     "data": {
      "text/plain": [
       "['Raktim', 'Abhi', 'Nabin']"
      ]
     },
     "execution_count": 2,
     "metadata": {},
     "output_type": "execute_result"
    }
   ],
   "source": [
    "list_obj = [1, 2, \"Raktim\", \"Abhi\", 5, 10, \"Nabin\"]\n",
    "\n",
    "def addi(a):\n",
    "    if type(a) == str:\n",
    "        return True\n",
    "    else:\n",
    "        return False\n",
    "def myfilter(function, iterable_object):\n",
    "    l = []\n",
    "    for i in iterable_object:\n",
    "        a = function(i)\n",
    "        if a == True :\n",
    "            l.append(i)\n",
    "        if a != True and a != False:\n",
    "            if a == None:\n",
    "                pass\n",
    "            else:\n",
    "                l.append(i)            \n",
    "    return l\n",
    "list(myfilter(addi, list_obj))\n",
    "    "
   ]
  },
  {
   "cell_type": "code",
   "execution_count": 6,
   "metadata": {},
   "outputs": [
    {
     "data": {
      "text/plain": [
       "['x', 'xx', 'xxx', 'xxxx', 'y', 'yy', 'yyy', 'yyyy', 'z', 'zz', 'zzz', 'zzzz']"
      ]
     },
     "execution_count": 6,
     "metadata": {},
     "output_type": "execute_result"
    }
   ],
   "source": [
    "letters = list(\"xyz\")\n",
    "patters = [letters[i] * j for i in range(len(letters)) for j in range(1, 5)]\n",
    "patters"
   ]
  },
  {
   "cell_type": "code",
   "execution_count": 5,
   "metadata": {},
   "outputs": [
    {
     "data": {
      "text/plain": [
       "['x', 'y', 'z', 'xx', 'yy', 'zz', 'xxx', 'yyy', 'zzz', 'xxxx', 'yyyy', 'zzzz']"
      ]
     },
     "execution_count": 5,
     "metadata": {},
     "output_type": "execute_result"
    }
   ],
   "source": [
    "letters = list(\"xyz\")\n",
    "patters = [letters[j] * i for i in range(1, 5) for j in range(len(letters))]\n",
    "patters"
   ]
  },
  {
   "cell_type": "code",
   "execution_count": 44,
   "metadata": {},
   "outputs": [
    {
     "data": {
      "text/plain": [
       "[(1, 1), (2, 1), (3, 1), (1, 2), (2, 2), (3, 2), (1, 3), (2, 3), (3, 3)]"
      ]
     },
     "execution_count": 44,
     "metadata": {},
     "output_type": "execute_result"
    }
   ],
   "source": [
    "numbers = [1,2,3]\n",
    "patterns = [(numbers[j], numbers[i]) for i in range(len(numbers)) for j in range(len(numbers))]\n",
    "patterns"
   ]
  },
  {
   "cell_type": "code",
   "execution_count": 45,
   "metadata": {},
   "outputs": [
    {
     "data": {
      "text/plain": [
       "[[2], [3], [4], [3], [4], [5], [4], [5], [6]]"
      ]
     },
     "execution_count": 45,
     "metadata": {},
     "output_type": "execute_result"
    }
   ],
   "source": [
    "a = []\n",
    "[a.append([j]) for i in range(2, 5) for j in range(i, i + 3)]\n",
    "a"
   ]
  },
  {
   "cell_type": "code",
   "execution_count": 46,
   "metadata": {},
   "outputs": [
    {
     "name": "stdout",
     "output_type": "stream",
     "text": [
      "[[2, 3, 4, 5], [3, 4, 5, 6], [4, 5, 6, 7], [5, 6, 7, 8]]\n"
     ]
    }
   ],
   "source": [
    "a = []\n",
    "b = []\n",
    "for i in range(2, 6):\n",
    "    for j in range(i, i + 4):\n",
    "        b.append(j)\n",
    "    a.append(b)\n",
    "    b = []\n",
    "print(a)"
   ]
  },
  {
   "cell_type": "code",
   "execution_count": null,
   "metadata": {},
   "outputs": [],
   "source": []
  }
 ],
 "metadata": {
  "kernelspec": {
   "display_name": "Python 3",
   "language": "python",
   "name": "python3"
  },
  "language_info": {
   "codemirror_mode": {
    "name": "ipython",
    "version": 3
   },
   "file_extension": ".py",
   "mimetype": "text/x-python",
   "name": "python",
   "nbconvert_exporter": "python",
   "pygments_lexer": "ipython3",
   "version": "3.8.5"
  }
 },
 "nbformat": 4,
 "nbformat_minor": 4
}
